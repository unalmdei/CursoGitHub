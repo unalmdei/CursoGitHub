{
 "cells": [
  {
   "cell_type": "markdown",
   "metadata": {},
   "source": [
    "\n",
    "# Creando una tabla de datos\n",
    "\n",
    "Las bases de datos requieren una estructura más definida que las listas de Python o los diccionarios.\n",
    "Cuando se crea una tabla de base de datos, se debe decir previamente a la base de datos los nombres\n",
    "de cada una de las columnas de la tabla y el tipo de datos que se almacena en cada columna. Cuando el software de la base de datos conoce el tipo de datos en cada columna, puede elegir la forma más eficiente de almacenar y buscar los datos basados sobre el tipo de datos.\n",
    "\n",
    "Puede consultar los distintos tipos de datos admitidos por SQLite en la siguiente URL:\n",
    "http://www.sqlite.org/datatypes.html\n",
    "\n",
    "Definir la estructura de sus datos por adelantado puede parecer inconveniente al principio, pero la recompensa es el acceso rápido a sus datos, incluso cuando la base de datos contiene un gran cantidad de datos.\n",
    "\n",
    "El código para crear un archivo de base de datos y una tabla llamada \"Track\" con dos columnas en la base de datos es como sigue:\n"
   ]
  },
  {
   "cell_type": "code",
   "execution_count": 4,
   "metadata": {},
   "outputs": [],
   "source": [
    "import sqlite3\n",
    "\n",
    "conn = sqlite3.connect('music.sqlite') #se conecta si existe y sino se crea una BD \n",
    "cur = conn.cursor()\n",
    "\n",
    "cur.execute('DROP TABLE IF EXISTS Tracks') #Elimina tabla Tracks si existe\n",
    "cur.execute('CREATE TABLE Tracks (title TEXT, plays INTEGER)') #Crea una tabla de nombre Tracks con dos campos (atributos:title y plays)\n",
    "\n",
    "conn.close()#cerrando la conexión"
   ]
  },
  {
   "cell_type": "markdown",
   "metadata": {},
   "source": [
    "Una vez teniendo el cursor, se puede comenzar a ejecutar comandos en el contenido de la base de datos usando el método execute().\n",
    "Los comandos de la base de datos se expresan en un lenguaje especial que se ha estandarizado en muchos proveedores de bases de datos diferentes permitiendo aprender un solo idioma de base de datos. El lenguaje de la base de datos se denomina lenguaje de consulta estructurado o SQL."
   ]
  },
  {
   "cell_type": "code",
   "execution_count": 2,
   "metadata": {},
   "outputs": [
    {
     "name": "stdout",
     "output_type": "stream",
     "text": [
      "Tracks:\n",
      "('Thunderstruck', 20)\n",
      "('My Way', 15)\n",
      "('Hello', 56)\n",
      "Después de eliminar registros donde plays>18\n",
      "('My Way', 15)\n"
     ]
    }
   ],
   "source": [
    "import sqlite3\n",
    "\n",
    "conn = sqlite3.connect('music.sqlite')\n",
    "cur = conn.cursor()\n",
    "\n",
    "cur.execute('INSERT INTO Tracks (title, plays) VALUES (?, ?)', \n",
    "    ('Thunderstruck', 20)) #\n",
    "cur.execute('INSERT INTO Tracks (title, plays) VALUES (?, ?)', \n",
    "    ('My Way', 15))\n",
    "cur.execute('INSERT INTO Tracks (title, plays) VALUES (?, ?)', \n",
    "    ('Hello', 56))\n",
    "conn.commit()\n",
    "\n",
    "\n",
    "print('Tracks:')\n",
    "cur.execute('SELECT title, plays FROM Tracks')\n",
    "for row in cur:\n",
    "    print(row)\n",
    "\n",
    "cur.execute('DELETE FROM Tracks WHERE plays > 18')\n",
    "conn.commit()\n",
    "\n",
    "print('Después de eliminar registros donde plays>18')\n",
    "cur.execute('SELECT title, plays FROM Tracks')\n",
    "for row in cur:\n",
    "     print(row)\n",
    "\n",
    "cur.close()"
   ]
  },
  {
   "cell_type": "code",
   "execution_count": 3,
   "metadata": {},
   "outputs": [
    {
     "name": "stdout",
     "output_type": "stream",
     "text": [
      "cwen@iupui.edu 5\n",
      "zqian@umich.edu 4\n",
      "david.horwitz@uct.ac.za 4\n",
      "louis@media.berkeley.edu 3\n",
      "gsilver@umich.edu 3\n",
      "stephen.marquard@uct.ac.za 2\n",
      "rjlowe@iupui.edu 2\n",
      "wagnermr@iupui.edu 1\n",
      "antranig@caret.cam.ac.uk 1\n",
      "gopal.ramasammycook@gmail.com 1\n"
     ]
    }
   ],
   "source": [
    "import sqlite3\n",
    "\n",
    "conn = sqlite3.connect('emaildb.sqlite')\n",
    "cur = conn.cursor()\n",
    "\n",
    "cur.execute('DROP TABLE IF EXISTS Counts')\n",
    "\n",
    "cur.execute('CREATE TABLE Counts (email TEXT, count INTEGER)')\n",
    "\n",
    "#fname = input('Enter file name: ')\n",
    "#if (len(fname) < 1): \n",
    "fname = 'mbox-short.txt'\n",
    "fh = open(fname)\n",
    "for line in fh:\n",
    "    if not line.startswith('From: '): continue\n",
    "    pieces = line.split()\n",
    "    email = pieces[1]\n",
    "    cur.execute('SELECT count FROM Counts WHERE email = ? ', (email,))\n",
    "    row = cur.fetchone()\n",
    "    if row is None:\n",
    "        cur.execute('INSERT INTO Counts (email, count) VALUES (?, 1)', (email,))\n",
    "    else:\n",
    "        cur.execute('UPDATE Counts SET count = count + 1 WHERE email = ?',\n",
    "                    (email,))\n",
    "    conn.commit()\n",
    "\n",
    "# https://www.sqlite.org/lang_select.html\n",
    "sqlstr = 'SELECT email, count FROM Counts ORDER BY count DESC LIMIT 10'\n",
    "\n",
    "for row in cur.execute(sqlstr):\n",
    "    print(str(row[0]), row[1])\n",
    "\n",
    "cur.close()\n"
   ]
  },
  {
   "cell_type": "markdown",
   "metadata": {},
   "source": [
    "Extraido de \"PYthon for everybody\": https://www.py4e.com/book"
   ]
  }
 ],
 "metadata": {
  "kernelspec": {
   "display_name": "Python 3",
   "language": "python",
   "name": "python3"
  },
  "language_info": {
   "codemirror_mode": {
    "name": "ipython",
    "version": 3
   },
   "file_extension": ".py",
   "mimetype": "text/x-python",
   "name": "python",
   "nbconvert_exporter": "python",
   "pygments_lexer": "ipython3",
   "version": "3.8.3"
  }
 },
 "nbformat": 4,
 "nbformat_minor": 2
}
